{
 "cells": [
  {
   "cell_type": "code",
   "execution_count": 5,
   "metadata": {},
   "outputs": [
    {
     "name": "stdout",
     "output_type": "stream",
     "text": [
      "\u001b[33mDEPRECATION: Python 2.7 will reach the end of its life on January 1st, 2020. Please upgrade your Python as Python 2.7 won't be maintained after that date. A future version of pip will drop support for Python 2.7. More details about Python 2 support in pip, can be found at https://pip.pypa.io/en/latest/development/release-process/#python-2-support\u001b[0m\n",
      "Collecting xlrd\n",
      "  Using cached https://files.pythonhosted.org/packages/b0/16/63576a1a001752e34bf8ea62e367997530dc553b689356b9879339cf45a4/xlrd-1.2.0-py2.py3-none-any.whl\n",
      "Installing collected packages: xlrd\n",
      "Successfully installed xlrd-1.2.0\n"
     ]
    }
   ],
   "source": [
    "!pip install xlrd"
   ]
  },
  {
   "cell_type": "code",
   "execution_count": 2,
   "metadata": {
    "colab": {},
    "colab_type": "code",
    "id": "-eZX_3rR7NYc"
   },
   "outputs": [],
   "source": [
    "import pandas as pd\n",
    "import geopandas as gpd\n",
    "import matplotlib.pyplot as plt\n",
    "import maup\n",
    "import numpy as np "
   ]
  },
  {
   "cell_type": "code",
   "execution_count": 11,
   "metadata": {
    "colab": {},
    "colab_type": "code",
    "id": "spFFr7_m7NYg"
   },
   "outputs": [],
   "source": [
    "precinct_path='../pres16_tab/NorthDakota_Precincts2016.xlsx'\n",
    "precinct_data= pd.read_excel(precinct_path)"
   ]
  },
  {
   "cell_type": "code",
   "execution_count": 12,
   "metadata": {
    "colab": {},
    "colab_type": "code",
    "id": "TUIEigp27NYj",
    "outputId": "dd19b7e8-9fe1-45bd-984e-16622b13ff7e"
   },
   "outputs": [
    {
     "data": {
      "text/plain": [
       "Index(['year', 'stage', 'special', 'state', 'state_postal', 'state_fips',\n",
       "       'state_icpsr', 'county_name', 'county_fips', 'county_ansi',\n",
       "       'county_lat', 'county_long', 'jurisdiction', 'precinct', 'candidate',\n",
       "       'candidate_normalized', 'office', 'district', 'writein', 'party',\n",
       "       'mode', 'votes', 'candidate_opensecrets', 'candidate_wikidata',\n",
       "       'candidate_party', 'candidate_last', 'candidate_first',\n",
       "       'candidate_middle', 'candidate_full', 'candidate_suffix',\n",
       "       'candidate_nickname', 'candidate_fec', 'candidate_fec_name',\n",
       "       'candidate_google', 'candidate_govtrack', 'candidate_icpsr',\n",
       "       'candidate_maplight'],\n",
       "      dtype='object')"
      ]
     },
     "execution_count": 12,
     "metadata": {},
     "output_type": "execute_result"
    }
   ],
   "source": [
    "precinct_data.columns"
   ]
  },
  {
   "cell_type": "code",
   "execution_count": 13,
   "metadata": {
    "colab": {},
    "colab_type": "code",
    "id": "_I7FovSb7NYp"
   },
   "outputs": [
    {
     "data": {
      "text/plain": [
       "Index(['year', 'stage', 'special', 'state', 'state_postal', 'state_fips',\n",
       "       'state_icpsr', 'county_name', 'county_fips', 'county_ansi',\n",
       "       'county_lat', 'county_long', 'jurisdiction', 'precinct', 'candidate',\n",
       "       'candidate_normalized', 'office', 'district', 'writein', 'party',\n",
       "       'mode', 'votes', 'candidate_opensecrets', 'candidate_wikidata',\n",
       "       'candidate_party', 'candidate_last', 'candidate_first',\n",
       "       'candidate_middle', 'candidate_full', 'candidate_suffix',\n",
       "       'candidate_nickname', 'candidate_fec', 'candidate_fec_name',\n",
       "       'candidate_google', 'candidate_govtrack', 'candidate_icpsr',\n",
       "       'candidate_maplight'],\n",
       "      dtype='object')"
      ]
     },
     "execution_count": 13,
     "metadata": {},
     "output_type": "execute_result"
    }
   ],
   "source": [
    "barnes = precinct_data[8:112]\n",
    "barnes.columns"
   ]
  },
  {
   "cell_type": "code",
   "execution_count": 14,
   "metadata": {
    "colab": {},
    "colab_type": "code",
    "id": "Fb20qCUp7NYr"
   },
   "outputs": [
    {
     "data": {
      "text/plain": [
       "MultiIndex(levels=[['votes'], ['US President'], ['american delta', 'constitution', 'democratic', 'green', 'libertarian', 'republican']],\n",
       "           codes=[[0, 0, 0, 0, 0, 0], [0, 0, 0, 0, 0, 0], [0, 1, 2, 3, 4, 5]],\n",
       "           names=[None, 'office', 'party'])"
      ]
     },
     "execution_count": 14,
     "metadata": {},
     "output_type": "execute_result"
    }
   ],
   "source": [
    "barnes_precinct = pd.pivot_table(barnes, index=['precinct'], columns=['office','party'], values=['votes'], aggfunc = np.sum)\n",
    "barnes_precinct.columns\n",
    "#CAN ADD CANDIDATE "
   ]
  },
  {
   "cell_type": "code",
   "execution_count": 15,
   "metadata": {
    "colab": {},
    "colab_type": "code",
    "id": "KOMNVhi17NYu"
   },
   "outputs": [],
   "source": [
    "barnes_precinct.columns = barnes_precinct.columns.to_series().str.join('')"
   ]
  },
  {
   "cell_type": "code",
   "execution_count": 16,
   "metadata": {
    "colab": {},
    "colab_type": "code",
    "id": "8X9E-MIj7NYx",
    "outputId": "616dd735-0fc9-4f1f-8a44-3c037a1dbe98"
   },
   "outputs": [
    {
     "data": {
      "text/plain": [
       "Index(['votesUS Presidentamerican delta', 'votesUS Presidentconstitution',\n",
       "       'votesUS Presidentdemocratic', 'votesUS Presidentgreen',\n",
       "       'votesUS Presidentlibertarian', 'votesUS Presidentrepublican'],\n",
       "      dtype='object')"
      ]
     },
     "execution_count": 16,
     "metadata": {},
     "output_type": "execute_result"
    }
   ],
   "source": [
    "barnes_precinct.columns"
   ]
  },
  {
   "cell_type": "code",
   "execution_count": 17,
   "metadata": {},
   "outputs": [],
   "source": [
    "barnes_precinct = barnes_precinct.drop(\n",
    "     columns=['votesUS Presidentamerican delta', 'votesUS Presidentconstitution',\\\n",
    "              'votesUS Presidentgreen'])"
   ]
  },
  {
   "cell_type": "code",
   "execution_count": 19,
   "metadata": {
    "colab": {},
    "colab_type": "code",
    "id": "1NJUSFDC7NY0"
   },
   "outputs": [
    {
     "data": {
      "text/html": [
       "<div>\n",
       "<style scoped>\n",
       "    .dataframe tbody tr th:only-of-type {\n",
       "        vertical-align: middle;\n",
       "    }\n",
       "\n",
       "    .dataframe tbody tr th {\n",
       "        vertical-align: top;\n",
       "    }\n",
       "\n",
       "    .dataframe thead th {\n",
       "        text-align: right;\n",
       "    }\n",
       "</style>\n",
       "<table border=\"1\" class=\"dataframe\">\n",
       "  <thead>\n",
       "    <tr style=\"text-align: right;\">\n",
       "      <th></th>\n",
       "      <th>PRES16D</th>\n",
       "      <th>PRES16L</th>\n",
       "      <th>PRES16R</th>\n",
       "    </tr>\n",
       "    <tr>\n",
       "      <th>PRECINCT</th>\n",
       "      <th></th>\n",
       "      <th></th>\n",
       "      <th></th>\n",
       "    </tr>\n",
       "  </thead>\n",
       "  <tbody>\n",
       "    <tr>\n",
       "      <th>Precinct 2401-00</th>\n",
       "      <td>141</td>\n",
       "      <td>29</td>\n",
       "      <td>240</td>\n",
       "    </tr>\n",
       "    <tr>\n",
       "      <th>Precinct 2402-00</th>\n",
       "      <td>233</td>\n",
       "      <td>53</td>\n",
       "      <td>372</td>\n",
       "    </tr>\n",
       "    <tr>\n",
       "      <th>Precinct 2403-00</th>\n",
       "      <td>164</td>\n",
       "      <td>40</td>\n",
       "      <td>230</td>\n",
       "    </tr>\n",
       "    <tr>\n",
       "      <th>Precinct 2404-00</th>\n",
       "      <td>205</td>\n",
       "      <td>51</td>\n",
       "      <td>347</td>\n",
       "    </tr>\n",
       "    <tr>\n",
       "      <th>Precinct 2405-00</th>\n",
       "      <td>289</td>\n",
       "      <td>66</td>\n",
       "      <td>451</td>\n",
       "    </tr>\n",
       "  </tbody>\n",
       "</table>\n",
       "</div>"
      ],
      "text/plain": [
       "                  PRES16D  PRES16L  PRES16R\n",
       "PRECINCT                                   \n",
       "Precinct 2401-00      141       29      240\n",
       "Precinct 2402-00      233       53      372\n",
       "Precinct 2403-00      164       40      230\n",
       "Precinct 2404-00      205       51      347\n",
       "Precinct 2405-00      289       66      451"
      ]
     },
     "execution_count": 19,
     "metadata": {},
     "output_type": "execute_result"
    }
   ],
   "source": [
    "index_dict = {\n",
    "    'Precinct 2401-00'\n",
    "}\n",
    "col_dict= {\n",
    "    'votesUS Presidentdemocratic' : 'PRES16D', \n",
    "    'votesUS Presidentlibertarian': 'PRES16L',\n",
    "    'votesUS Presidentrepublican':  'PRES16R'\n",
    "}\n",
    "barnes_precinct = barnes_precinct.rename_axis('PRECINCT')\n",
    "barnes_precinct = barnes_precinct.rename(columns=col_dict)\n",
    "barnes_precinct.head()\n",
    "#barnes_precinct.to_csv(precinct_path.rsplit('.',1)[0] + '_barnes.csv')"
   ]
  },
  {
   "cell_type": "code",
   "execution_count": 23,
   "metadata": {
    "colab": {},
    "colab_type": "code",
    "id": "3ahUIs5J7NY3"
   },
   "outputs": [
    {
     "data": {
      "text/plain": [
       "<matplotlib.axes._subplots.AxesSubplot at 0x11b554750>"
      ]
     },
     "execution_count": 23,
     "metadata": {},
     "output_type": "execute_result"
    },
    {
     "data": {
      "image/png": "[encoded data removed]",
      "text/plain": [
       "<Figure size 432x288 with 1 Axes>"
      ]
     },
     "metadata": {
      "needs_background": "light"
     },
     "output_type": "display_data"
    }
   ],
   "source": [
    "#join by precinct name \n",
    "barnes_shp = './barnes/shp/barnes_precincts.shp'\n",
    "barnes_gdf = gpd.read_file(barnes_shp)\n",
    "barnes_gdf.head()"
   ]
  },
  {
   "cell_type": "code",
   "execution_count": 31,
   "metadata": {
    "colab": {},
    "colab_type": "code",
    "id": "x_qDKTy97NY6"
   },
   "outputs": [
    {
     "data": {
      "text/html": [
       "<div>\n",
       "<style scoped>\n",
       "    .dataframe tbody tr th:only-of-type {\n",
       "        vertical-align: middle;\n",
       "    }\n",
       "\n",
       "    .dataframe tbody tr th {\n",
       "        vertical-align: top;\n",
       "    }\n",
       "\n",
       "    .dataframe thead th {\n",
       "        text-align: right;\n",
       "    }\n",
       "</style>\n",
       "<table border=\"1\" class=\"dataframe\">\n",
       "  <thead>\n",
       "    <tr style=\"text-align: right;\">\n",
       "      <th></th>\n",
       "      <th>STATEFP10</th>\n",
       "      <th>COUNTYFP10</th>\n",
       "      <th>TRACTCE10</th>\n",
       "      <th>BLOCKCE10</th>\n",
       "      <th>GEOID10</th>\n",
       "      <th>NAME10</th>\n",
       "      <th>MTFCC10</th>\n",
       "      <th>UR10</th>\n",
       "      <th>UACE10</th>\n",
       "      <th>UATYPE</th>\n",
       "      <th>FUNCSTAT10</th>\n",
       "      <th>ALAND10</th>\n",
       "      <th>AWATER10</th>\n",
       "      <th>INTPTLAT10</th>\n",
       "      <th>INTPTLON10</th>\n",
       "      <th>PRECINCT</th>\n",
       "      <th>geometry</th>\n",
       "      <th>PRES16D</th>\n",
       "      <th>PRES16L</th>\n",
       "      <th>PRES16R</th>\n",
       "    </tr>\n",
       "  </thead>\n",
       "  <tbody>\n",
       "    <tr>\n",
       "      <th>0</th>\n",
       "      <td>38</td>\n",
       "      <td>003</td>\n",
       "      <td>968000</td>\n",
       "      <td>3055</td>\n",
       "      <td>380039680003055</td>\n",
       "      <td>Block 3055</td>\n",
       "      <td>G5040</td>\n",
       "      <td>R</td>\n",
       "      <td>None</td>\n",
       "      <td>None</td>\n",
       "      <td>S</td>\n",
       "      <td>0</td>\n",
       "      <td>774492</td>\n",
       "      <td>+46.9006185</td>\n",
       "      <td>-098.1476383</td>\n",
       "      <td>Precinct 2411-00</td>\n",
       "      <td>POLYGON ((581244.812 5194690.487, 581244.445 5...</td>\n",
       "      <td>144</td>\n",
       "      <td>39</td>\n",
       "      <td>380</td>\n",
       "    </tr>\n",
       "    <tr>\n",
       "      <th>1</th>\n",
       "      <td>38</td>\n",
       "      <td>003</td>\n",
       "      <td>968300</td>\n",
       "      <td>1008</td>\n",
       "      <td>380039683001008</td>\n",
       "      <td>Block 1008</td>\n",
       "      <td>G5040</td>\n",
       "      <td>U</td>\n",
       "      <td>90055</td>\n",
       "      <td>C</td>\n",
       "      <td>S</td>\n",
       "      <td>16436</td>\n",
       "      <td>0</td>\n",
       "      <td>+46.9385876</td>\n",
       "      <td>-097.9951834</td>\n",
       "      <td>Precinct 2401-00</td>\n",
       "      <td>POLYGON ((576359.510 5198882.689, 576374.126 5...</td>\n",
       "      <td>141</td>\n",
       "      <td>29</td>\n",
       "      <td>240</td>\n",
       "    </tr>\n",
       "    <tr>\n",
       "      <th>2</th>\n",
       "      <td>38</td>\n",
       "      <td>003</td>\n",
       "      <td>968300</td>\n",
       "      <td>2011</td>\n",
       "      <td>380039683002011</td>\n",
       "      <td>Block 2011</td>\n",
       "      <td>G5040</td>\n",
       "      <td>U</td>\n",
       "      <td>90055</td>\n",
       "      <td>C</td>\n",
       "      <td>S</td>\n",
       "      <td>129204</td>\n",
       "      <td>0</td>\n",
       "      <td>+46.9266554</td>\n",
       "      <td>-097.9924004</td>\n",
       "      <td>Precinct 2402-00</td>\n",
       "      <td>POLYGON ((576000.092 5197629.977, 575996.477 5...</td>\n",
       "      <td>233</td>\n",
       "      <td>53</td>\n",
       "      <td>372</td>\n",
       "    </tr>\n",
       "    <tr>\n",
       "      <th>3</th>\n",
       "      <td>38</td>\n",
       "      <td>003</td>\n",
       "      <td>968200</td>\n",
       "      <td>1010</td>\n",
       "      <td>380039682001010</td>\n",
       "      <td>Block 1010</td>\n",
       "      <td>G5040</td>\n",
       "      <td>U</td>\n",
       "      <td>90055</td>\n",
       "      <td>C</td>\n",
       "      <td>S</td>\n",
       "      <td>12764</td>\n",
       "      <td>0</td>\n",
       "      <td>+46.9226442</td>\n",
       "      <td>-098.0111948</td>\n",
       "      <td>Precinct 2403-00</td>\n",
       "      <td>POLYGON ((575223.557 5197091.331, 575248.252 5...</td>\n",
       "      <td>164</td>\n",
       "      <td>40</td>\n",
       "      <td>230</td>\n",
       "    </tr>\n",
       "    <tr>\n",
       "      <th>4</th>\n",
       "      <td>38</td>\n",
       "      <td>003</td>\n",
       "      <td>968300</td>\n",
       "      <td>3025</td>\n",
       "      <td>380039683003025</td>\n",
       "      <td>Block 3025</td>\n",
       "      <td>G5040</td>\n",
       "      <td>U</td>\n",
       "      <td>90055</td>\n",
       "      <td>C</td>\n",
       "      <td>S</td>\n",
       "      <td>13378</td>\n",
       "      <td>0</td>\n",
       "      <td>+46.9246130</td>\n",
       "      <td>-098.0098028</td>\n",
       "      <td>Precinct 2404-00</td>\n",
       "      <td>POLYGON ((574003.137 5196356.668, 574032.888 5...</td>\n",
       "      <td>205</td>\n",
       "      <td>51</td>\n",
       "      <td>347</td>\n",
       "    </tr>\n",
       "  </tbody>\n",
       "</table>\n",
       "</div>"
      ],
      "text/plain": [
       "  STATEFP10 COUNTYFP10 TRACTCE10 BLOCKCE10          GEOID10      NAME10  \\\n",
       "0        38        003    968000      3055  380039680003055  Block 3055   \n",
       "1        38        003    968300      1008  380039683001008  Block 1008   \n",
       "2        38        003    968300      2011  380039683002011  Block 2011   \n",
       "3        38        003    968200      1010  380039682001010  Block 1010   \n",
       "4        38        003    968300      3025  380039683003025  Block 3025   \n",
       "\n",
       "  MTFCC10 UR10 UACE10 UATYPE FUNCSTAT10  ALAND10  AWATER10   INTPTLAT10  \\\n",
       "0   G5040    R   None   None          S        0    774492  +46.9006185   \n",
       "1   G5040    U  90055      C          S    16436         0  +46.9385876   \n",
       "2   G5040    U  90055      C          S   129204         0  +46.9266554   \n",
       "3   G5040    U  90055      C          S    12764         0  +46.9226442   \n",
       "4   G5040    U  90055      C          S    13378         0  +46.9246130   \n",
       "\n",
       "     INTPTLON10          PRECINCT  \\\n",
       "0  -098.1476383  Precinct 2411-00   \n",
       "1  -097.9951834  Precinct 2401-00   \n",
       "2  -097.9924004  Precinct 2402-00   \n",
       "3  -098.0111948  Precinct 2403-00   \n",
       "4  -098.0098028  Precinct 2404-00   \n",
       "\n",
       "                                            geometry  PRES16D  PRES16L  \\\n",
       "0  POLYGON ((581244.812 5194690.487, 581244.445 5...      144       39   \n",
       "1  POLYGON ((576359.510 5198882.689, 576374.126 5...      141       29   \n",
       "2  POLYGON ((576000.092 5197629.977, 575996.477 5...      233       53   \n",
       "3  POLYGON ((575223.557 5197091.331, 575248.252 5...      164       40   \n",
       "4  POLYGON ((574003.137 5196356.668, 574032.888 5...      205       51   \n",
       "\n",
       "   PRES16R  \n",
       "0      380  \n",
       "1      240  \n",
       "2      372  \n",
       "3      230  \n",
       "4      347  "
      ]
     },
     "execution_count": 31,
     "metadata": {},
     "output_type": "execute_result"
    }
   ],
   "source": [
    "merged = pd.merge(barnes_gdf, barnes_precinct, \n",
    "                  left_on=\"PRECINCT\", right_on=\"PRECINCT\")\n",
    "merged.head()"
   ]
  },
  {
   "cell_type": "code",
   "execution_count": 35,
   "metadata": {},
   "outputs": [],
   "source": [
    "outpath = './barnes/joined/barnes_precincts_joinedPRES16.shp'\n",
    "merged.to_file(outpath)"
   ]
  },
  {
   "cell_type": "code",
   "execution_count": 36,
   "metadata": {},
   "outputs": [],
   "source": []
  },
  {
   "cell_type": "code",
   "execution_count": null,
   "metadata": {},
   "outputs": [],
   "source": []
  }
 ],
 "metadata": {
  "colab": {
   "name": "ND_Precinct.ipynb",
   "provenance": []
  },
  "kernelspec": {
   "display_name": "Python 3",
   "language": "python",
   "name": "python3"
  },
  "language_info": {
   "codemirror_mode": {
    "name": "ipython",
    "version": 3
   },
   "file_extension": ".py",
   "mimetype": "text/x-python",
   "name": "python",
   "nbconvert_exporter": "python",
   "pygments_lexer": "ipython3",
   "version": "3.7.7"
  }
 },
 "nbformat": 4,
 "nbformat_minor": 1
}
